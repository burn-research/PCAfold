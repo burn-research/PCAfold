{
 "cells": [
  {
   "cell_type": "markdown",
   "metadata": {},
   "source": [
    "<a id='top-page'></a>\n",
    "# <img src=\"../images/PCAfold-logo.svg\" style=\"height:100px\"> Handling source terms\n",
    "\n",
    "This tutorial can be of interest to researchers working with reactive flows data sets. We present how source terms of the original state variables can be handled using **PCAfold** software. Specifically, **PCAfold** functionalities accommodate treatment of sources of principal components (PCs) which can be valuable for implementing PC-transport approaches such as proposed in [[1]](#references).\n",
    "\n",
    "- [**Theory**](#theory)\n",
    "- [**Code implemention**](#implementation)\n",
    "- [**References**](#references)"
   ]
  },
  {
   "cell_type": "markdown",
   "metadata": {},
   "source": [
    "<a id='theory'></a>\n",
    "\n",
    "***\n",
    "\n",
    "## Theory\n",
    "\n",
    "[**↑ Go to the top**](#top-page)\n",
    "\n",
    "The methodology for the standard PC-transport approach was first proposed\n",
    "in [[1]](#references). As an illustrative example, PC-transport\n",
    "equations adequate to a 0D chemical reactor are presented below.\n",
    "The reader is referred to [[2]](#references), [[3]](#references) for treatment of the full PC-transport equations including diffusion.\n",
    "\n",
    "We assume that the data set containing original state-space variables is:\n",
    "\n",
    "$$\n",
    "  \\mathbf{X} = [T, Y_1, Y_2, \\dots, Y_{N_s-1}]\n",
    "$$\n",
    "\n",
    "where $T$ is temperature and $Y_i$ is a mass fraction of species\n",
    "$i$. $N_s$ is the total number of chemical species. The corresponding\n",
    "source terms of the original state-space variables are:\n",
    "\n",
    "$$\n",
    "  \\mathbf{S_X} = \\Big[ -\\frac{1}{\\rho c_p} \\sum_{i=1}^{N_s} ( \\omega_i h_i ), \\frac{\\omega_1}{\\rho}, \\frac{\\omega_2}{\\rho}, \\dots, \\frac{\\omega_{N_s-1}}{\\rho} \\Big]\n",
    "$$\n",
    "\n",
    "where $\\rho$ is the density of the mixture and $c_p$ is the specific heat capacity of the mixture, $\\omega_i$ is the net mass production rate of species $i$ and $h_i$ is the enthalpy of species $i$.\n",
    "\n",
    "For a 0D-system, we can write the evolution equation as:\n",
    "\n",
    "$$\n",
    "  \\frac{d \\mathbf{X}}{dt} = \\mathbf{S_X}\n",
    "$$\n",
    "\n",
    "This equation can be instead written in the space of principal components by applying\n",
    "a linear operator $\\mathbf{A}$ identified by PCA. We can also account for\n",
    "centering and scaling the original data set $\\mathbf{X}$ using centers\n",
    "$\\mathbf{C}$ and scales $\\mathbf{D}$:\n",
    "\n",
    "$$\n",
    "  \\frac{d \\Big( \\frac{\\mathbf{X} - \\mathbf{C}}{\\mathbf{D}} \\Big) \\mathbf{A}}{dt} = \\frac{\\mathbf{S_X}}{\\mathbf{D}}\\mathbf{A}\n",
    "$$\n",
    "\n",
    "It is worth noting that when the original data set is centered and scaled,\n",
    "the corresponding source terms should only be scaled and not centered, since:\n",
    "\n",
    "$$\n",
    "  \\frac{d \\frac{\\mathbf{C}}{\\mathbf{D}} \\mathbf{A}}{dt} = 0\n",
    "$$\n",
    "\n",
    "for constant $\\mathbf{C}$, $\\mathbf{D}$ and $\\mathbf{A}$.\n",
    "\n",
    "We finally obtain the 0D PC-transport equation where the evolved variables\n",
    "are principal components instead of the original state-space variables:\n",
    "\n",
    "$$\n",
    "  \\frac{d \\mathbf{Z}}{dt} = \\mathbf{S_{Z}}\n",
    "$$\n",
    "\n",
    "where $\\mathbf{Z} = \\Big( \\frac{\\mathbf{X} - \\mathbf{C}}{\\mathbf{D}} \\Big) \\mathbf{A}$\n",
    "and $\\mathbf{S_{Z}} = \\frac{\\mathbf{S_X}}{\\mathbf{D}}\\mathbf{A}$."
   ]
  },
  {
   "cell_type": "markdown",
   "metadata": {},
   "source": [
    "<a id='implementation'></a>\n",
    "***\n",
    "\n",
    "## Code implementation\n",
    "\n",
    "[**↑ Go to the top**](#top-page)"
   ]
  },
  {
   "cell_type": "markdown",
   "metadata": {},
   "source": [
    "We import the necessary modules:"
   ]
  },
  {
   "cell_type": "code",
   "execution_count": null,
   "metadata": {},
   "outputs": [],
   "source": [
    "from PCAfold import PCA\n",
    "import numpy as np"
   ]
  },
  {
   "cell_type": "markdown",
   "metadata": {},
   "source": [
    "A data set representing combustion of syngas in air generated from steady laminar flamelet model using [*Spitfire*](https://github.com/sandialabs/Spitfire) software [[4]](#references) and a chemical mechanism by Hawkes et al. [[5]](#references) is used as a demo data set. \n",
    "\n",
    "We begin by importing the data set composed of the original state space variables\n",
    "$\\mathbf{X}$ and the corresponding source terms $\\mathbf{S_X}$:"
   ]
  },
  {
   "cell_type": "code",
   "execution_count": 2,
   "metadata": {},
   "outputs": [],
   "source": [
    "X = np.genfromtxt('data-state-space.csv', delimiter=',')\n",
    "S_X = np.genfromtxt('data-state-space-sources.csv', delimiter=',')"
   ]
  },
  {
   "cell_type": "markdown",
   "metadata": {},
   "source": [
    "We perform PCA on the original data:"
   ]
  },
  {
   "cell_type": "code",
   "execution_count": 3,
   "metadata": {},
   "outputs": [],
   "source": [
    "pca_X = PCA(X, scaling='auto', n_components=2)"
   ]
  },
  {
   "cell_type": "markdown",
   "metadata": {},
   "source": [
    "We transform the original data set  to the newly identified basis and\n",
    "compute the principal components (PCs) $\\mathbf{Z}$:"
   ]
  },
  {
   "cell_type": "code",
   "execution_count": 4,
   "metadata": {},
   "outputs": [],
   "source": [
    "Z = pca_X.transform(X, nocenter=False)"
   ]
  },
  {
   "cell_type": "markdown",
   "metadata": {},
   "source": [
    "Transform the source terms to the newly identified basis and compute the sources\n",
    "of principal components $\\mathbf{S_Z}$:"
   ]
  },
  {
   "cell_type": "code",
   "execution_count": 5,
   "metadata": {},
   "outputs": [],
   "source": [
    "S_Z = pca_X.transform(S_X, nocenter=True)"
   ]
  },
  {
   "cell_type": "markdown",
   "metadata": {},
   "source": [
    "Note that we set the flag ``nocenter=True`` which is a specific setting that\n",
    "should be applied when transforming source terms.\n",
    "With that setting, only scales $\\mathbf{D}$ will be applied when transforming $\\mathbf{S_X}$\n",
    "to the new basis defined by $\\mathbf{A}$ and thus the transformation will be consistent with the discussion presented\n",
    "in the previous section."
   ]
  },
  {
   "cell_type": "markdown",
   "metadata": {},
   "source": [
    "<a id='references'></a>\n",
    "***\n",
    "\n",
    "## References\n",
    "\n",
    "[**↑ Go to the top**](#top-page)\n",
    "\n",
    "> [[1]](#theory) James C. Sutherland and Alessandro Parente, *Combustion modeling using principal component analysis*, Proceedings of the Combustion Institute, 32(1):1563–1570, 2009.\n",
    ">\n",
    "> [[2]](#theory) A. Biglari and J. C. Sutherland, *An a-posteriori evaluation of principal component analysis-based models for turbulent combustion simulations*, Combustion and Flame, 162(10):4025–4035, 2015.\n",
    "> \n",
    "> [[3]](#theory) T. Echekki, H. Mirgolbabaei, *Principal component transport in turbulent combustion: a posteriori analysis*, Combustion and Flame, 162(5):1919–1933, 2015.\n",
    ">\n",
    "> [[4]](#implementation) [M. A. Hansen, *Spitfire*, 2020](https://github.com/sandialabs/Spitfire)\n",
    "> \n",
    "> [[5]](#implementation) E. R. Hawkes, R. Sankaran, J. C. Sutherland, J. H. Chen, *Scalar mixing in direct numerical simulations of temporally evolving plane jet flames with skeletal co/h2 kinetics*, Proceedings of the combustion institute 31 (1) (2007) 1633–1640\n",
    "\n",
    "***"
   ]
  }
 ],
 "metadata": {
  "kernelspec": {
   "display_name": "Python 3",
   "language": "python",
   "name": "python3"
  },
  "language_info": {
   "codemirror_mode": {
    "name": "ipython",
    "version": 3
   },
   "file_extension": ".py",
   "mimetype": "text/x-python",
   "name": "python",
   "nbconvert_exporter": "python",
   "pygments_lexer": "ipython3",
   "version": "3.7.6"
  }
 },
 "nbformat": 4,
 "nbformat_minor": 4
}
